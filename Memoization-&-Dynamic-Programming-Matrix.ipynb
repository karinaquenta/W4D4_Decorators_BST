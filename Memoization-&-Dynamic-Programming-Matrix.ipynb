{
 "cells": [
  {
   "cell_type": "markdown",
   "metadata": {},
   "source": [
    "# BST, Memoization & Dynamic Programming \n",
    "\n",
    "### Topics to discuss today:\n",
    "\n",
    "<ul>\n",
    "    <li>Time and Space Complexity  of recursive fibonnaci</li>\n",
    "    <li>The fibonacci Tree</li>\n",
    "    <li>storing solutions to sub problems</li>\n",
    "    <li>solving popular problems</li>\n",
    "</ul>\n",
    "<br>"
   ]
  },
  {
   "cell_type": "markdown",
   "metadata": {},
   "source": [
    "Calculating the time space complexity of the Fibbonacci sequence\n"
   ]
  },
  {
   "cell_type": "code",
   "execution_count": null,
   "metadata": {},
   "outputs": [],
   "source": [
    "Binary Search Tree:"
   ]
  },
  {
   "cell_type": "code",
   "execution_count": null,
   "metadata": {},
   "outputs": [],
   "source": []
  },
  {
   "cell_type": "markdown",
   "metadata": {},
   "source": [
    "### The Fibonacci sequence"
   ]
  },
  {
   "cell_type": "code",
   "execution_count": 1,
   "metadata": {},
   "outputs": [
    {
     "name": "stdout",
     "output_type": "stream",
     "text": [
      "55\n"
     ]
    }
   ],
   "source": [
    "# Write out a function to find the nth number in the fibonnaci sequence\n",
    "#Dealing with Time space and recursion\n",
    "\n",
    "#used case for Memoization\n",
    "\n",
    "def fibonacci(n):\n",
    "    if n < 2:\n",
    "        return n\n",
    "    return fibonacci(n-1) + fibonacci (n-2) #calling 2 linear operations\n",
    "print(fibonacci(10))\n",
    "#DONT TRY BIG NUMBERS,SLOW AF"
   ]
  },
  {
   "cell_type": "markdown",
   "metadata": {},
   "source": [
    "## Trees"
   ]
  },
  {
   "cell_type": "markdown",
   "metadata": {},
   "source": [
    "the fibonacci sequence can be visualized using a tree structure. Lets look at the elements of a tree before discussing the fibonnaci tree:\n",
    "\n",
    "<img src=\"https://www.tutorialspoint.com/data_structures_algorithms/images/binary_tree.jpg\" style=\"height:400px;\">"
   ]
  },
  {
   "cell_type": "markdown",
   "metadata": {},
   "source": [
    "Let's look at the fibonnaci tree:\n",
    "\n",
    "<img src=\"data:image/jpeg;base64,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\" style=\"height:200px;\">"
   ]
  },
  {
   "cell_type": "markdown",
   "metadata": {},
   "source": [
    "## Memoization\n",
    "\n",
    "#### What is it?\n",
    "\n",
    "In computing, memoization or memoisation is an optimization technique used primarily to speed up computer programs by storing the results of expensive function calls and returning the cached result when the same inputs occur again. Memoization has also been used in other contexts (and for purposes other than speed gains), such as in simple mutually recursive descent parsing.\n",
    "\n",
    "#### When should we use it?\n",
    "\n",
    "Some problems are largely made of <b>overlapping subproblems</b>. When we find our code is solving the same problem multiple times over it's a good idea to store them so we don't have to recompute those solutions. This is known as Dynamic Programming "
   ]
  },
  {
   "cell_type": "code",
   "execution_count": null,
   "metadata": {},
   "outputs": [],
   "source": [
    "#The super power of Dictionaries\n",
    "\n",
    "fib_cache = {}"
   ]
  },
  {
   "cell_type": "code",
   "execution_count": null,
   "metadata": {},
   "outputs": [],
   "source": [
    "def fibonacci(n):\n",
    "    if n in fib_cache:\n",
    "        return fib_cache[] #return value of our current #\n",
    "    if n < 2:\n",
    "        return n\n",
    "    result = fibonacci(n-1) + fibonacci (n-2) #instead of recalling adding to cache dict\n",
    "    fib_cache[n] = result\n",
    "    return result\n",
    "print(fibonacci(10)) #hittin 6k like nothin"
   ]
  },
  {
   "cell_type": "code",
   "execution_count": 2,
   "metadata": {},
   "outputs": [],
   "source": [
    "#same thing but factorial\n",
    "\n",
    "factorial_cache = {}"
   ]
  },
  {
   "cell_type": "code",
   "execution_count": 4,
   "metadata": {},
   "outputs": [
    {
     "name": "stdout",
     "output_type": "stream",
     "text": [
      "93326215443944152681699238856266700490715968264381621468592963895217599993229915608941463976156518286253697920827223758251185210916864000000000000000000000000\n"
     ]
    }
   ],
   "source": [
    "def factorial(n):\n",
    "    if n in factorial_cache:\n",
    "        return factorial_cache[n] #value we are keying in\n",
    "    if n == 0:\n",
    "        return 1\n",
    "    result = n * factorial(n-1)\n",
    "    factorial_cache[n] = result\n",
    "    return result\n",
    "\n",
    "print(factorial(100))"
   ]
  },
  {
   "cell_type": "markdown",
   "metadata": {},
   "source": [
    "## Decorators"
   ]
  },
  {
   "cell_type": "markdown",
   "metadata": {},
   "source": [
    "<p>A Decorator in Python is a function that takes another function that as an argument, and returns a 3rd function. Decorators are extremely useful as they allow the extenson of an existing function, without any of the original source code.</p>"
   ]
  },
  {
   "cell_type": "code",
   "execution_count": 12,
   "metadata": {},
   "outputs": [
    {
     "name": "stdout",
     "output_type": "stream",
     "text": [
      "hello matrix\n",
      "HELLO MATRIX\n"
     ]
    }
   ],
   "source": [
    "#Decorator Syntax - take in a function as an argument\n",
    "\n",
    "#python wk 2 day 2 - lambdas and nested functions\n",
    "\n",
    "def uppercase_decorator(func):\n",
    "    def wrapper(): #need a wapper( using a decorator, can be named anything since its a func)\n",
    "        result = func() #return from our wrapper function\n",
    "        return result.upper()\n",
    "    return wrapper\n",
    "    \n",
    "def greeting():\n",
    "    return 'hello matrix'\n",
    "\n",
    "print(greeting())\n",
    "greeting_uppercase = uppercase_decorator(greeting)\n",
    "\n",
    "print(greeting_uppercase())\n",
    "\n"
   ]
  },
  {
   "cell_type": "code",
   "execution_count": 11,
   "metadata": {},
   "outputs": [
    {
     "name": "stdout",
     "output_type": "stream",
     "text": [
      "HELLO WORLD\n"
     ]
    }
   ],
   "source": [
    "@uppercase_decorator\n",
    "def say_hello():\n",
    "    return 'Hello World'\n",
    "\n",
    "print(say_hello())"
   ]
  },
  {
   "cell_type": "code",
   "execution_count": 14,
   "metadata": {},
   "outputs": [
    {
     "data": {
      "text/plain": [
       "15"
      ]
     },
     "execution_count": 14,
     "metadata": {},
     "output_type": "execute_result"
    }
   ],
   "source": [
    "#another use can be error handling\n",
    "#new decorator\n",
    "#if take in parameters, we want to add it to func\n",
    "#args* = have as manay arguments as we would like\n",
    "\n",
    "def handle_errors(func):\n",
    "    def wrapper(*args):\n",
    "        try:\n",
    "            return func(*args)\n",
    "        except:    \n",
    "            print(f'Error {exception = }')\n",
    "    return wrapper #return value for handle errors\n",
    "\n",
    "@handle_errors\n",
    "def add_nums(num1, num2):\n",
    "    return num1 + num2\n",
    "\n",
    "add_nums(5, 10)"
   ]
  },
  {
   "cell_type": "code",
   "execution_count": 16,
   "metadata": {},
   "outputs": [
    {
     "data": {
      "text/plain": [
       "573147844013817084101"
      ]
     },
     "execution_count": 16,
     "metadata": {},
     "output_type": "execute_result"
    }
   ],
   "source": [
    "def cache(func):\n",
    "    memo = {} #create dict before going into our wrapper function, memo = memorization\n",
    "    def wrapper(*args): #optiona arguments we pass in\n",
    "        if args in memo:\n",
    "            return memo[args]\n",
    "        result = func(*args)\n",
    "        memo[args] = result\n",
    "        return result\n",
    "    return wrapper\n",
    "\n",
    "@cache #decorates with cache\n",
    "def fib(n):\n",
    "    if n < 2:\n",
    "        return 1\n",
    "    return fib(n-1) + fib(n-2)\n",
    "    \n",
    "fib(100)\n",
    "\n",
    "@cache\n",
    "def factorial(n):\n",
    "    if n == 0:\n",
    "        return 1\n",
    "    return n * factorial(n-1)\n",
    "\n",
    "fib(200)"
   ]
  },
  {
   "cell_type": "markdown",
   "metadata": {},
   "source": [
    "## TwoSum Problem"
   ]
  },
  {
   "cell_type": "markdown",
   "metadata": {},
   "source": [
    "Given an array of integers, return the two numbers such that they add up to a specific target.\n",
    "\n",
    "You may assume that each input would have exactly one solution, and you may not use the same element twice."
   ]
  },
  {
   "cell_type": "code",
   "execution_count": null,
   "metadata": {},
   "outputs": [],
   "source": [
    "# In Python, the space complexity of an algorithm can be quadratic if the algorithm uses a nested loop and \n",
    "# creates a new data structure for each iteration of the outer loop, and the size of the new data structure is \n",
    "# proportional to the number of iterations of the inner loop. For example, a nested loop that creates a new list \n",
    "# for each iteration of the outer loop, and appends to the list for each iteration of the inner loop, would have a \n",
    "# space complexity of O(n^2), where n is the number of iterations of the outer loop.\""
   ]
  },
  {
   "cell_type": "code",
   "execution_count": 18,
   "metadata": {},
   "outputs": [],
   "source": [
    "ex = [20,15,9,7,13]\n",
    "target = 16"
   ]
  },
  {
   "cell_type": "code",
   "execution_count": null,
   "metadata": {},
   "outputs": [],
   "source": [
    "def two_sum(0, target):\n",
    "    if n in"
   ]
  },
  {
   "cell_type": "code",
   "execution_count": 20,
   "metadata": {},
   "outputs": [
    {
     "name": "stdout",
     "output_type": "stream",
     "text": [
      "[2, 3]\n"
     ]
    }
   ],
   "source": [
    "example = [20,15,9,7,13]\n",
    "target = 16\n",
    "\n",
    "def TwoSum(example, target):\n",
    "    new_table = {}\n",
    "    for num in range(len(example)):\n",
    "        difference = target - example[num]\n",
    "        \n",
    "        if difference in new_table:\n",
    "            return [new_table[difference], num]\n",
    "        \n",
    "        new_table[example[num]] = num\n",
    "        \n",
    "    return []\n",
    "\n",
    "print(TwoSum(example, target)) #LINEAR"
   ]
  },
  {
   "cell_type": "code",
   "execution_count": 21,
   "metadata": {},
   "outputs": [
    {
     "name": "stdout",
     "output_type": "stream",
     "text": [
      "(9, 7)\n"
     ]
    }
   ],
   "source": [
    "example = [20,15,9,7,13]\n",
    "target = 16\n",
    "\n",
    "def twosum(an_array, target):\n",
    "    my_dict = {}\n",
    "    for i in range(len(an_array)):\n",
    "        if target - an_array[i] > 0:\n",
    "            if target - an_array[i] in my_dict:\n",
    "                return (my_dict[target - an_array[i]], an_array[i])\n",
    "            else:\n",
    "                my_dict[an_array[i]] = an_array[i]\n",
    "print(twosum(ex, target)) #LINEAR"
   ]
  },
  {
   "cell_type": "code",
   "execution_count": null,
   "metadata": {},
   "outputs": [],
   "source": []
  }
 ],
 "metadata": {
  "kernelspec": {
   "display_name": "Python 3 (ipykernel)",
   "language": "python",
   "name": "python3"
  },
  "language_info": {
   "codemirror_mode": {
    "name": "ipython",
    "version": 3
   },
   "file_extension": ".py",
   "mimetype": "text/x-python",
   "name": "python",
   "nbconvert_exporter": "python",
   "pygments_lexer": "ipython3",
   "version": "3.10.9"
  }
 },
 "nbformat": 4,
 "nbformat_minor": 2
}
